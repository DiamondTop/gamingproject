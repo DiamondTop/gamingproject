{
 "cells": [
  {
   "cell_type": "code",
   "execution_count": 1,
   "metadata": {},
   "outputs": [],
   "source": [
    "import requests\n",
    "from pprint import pprint\n",
    "import pandas as pd\n"
   ]
  },
  {
   "cell_type": "code",
   "execution_count": 8,
   "metadata": {},
   "outputs": [],
   "source": [
    "#test\n",
    "base_url = \"https://api-v3.igdb.com/\"\n",
    "header={\"user-key\":\"12e42347a0a2ee0b7a738578e40fe301 \"}\n",
    "end_point='games'\n",
    "params={\"fields\":\"aggregated_rating,name,videos,game_modes,genres\", \"filter[aggregated_rating][gt]\":\"0\", \"limit\":\"100\",}\n",
    "# filter[platform][eq]=48"
   ]
  },
  {
   "cell_type": "code",
   "execution_count": 97,
   "metadata": {},
   "outputs": [],
   "source": [
    "#primary ds\n",
    "base_url = \"https://api-v3.igdb.com/games\"\n",
    "header={\"user-key\":\"12e42347a0a2ee0b7a738578e40fe301\"}\n",
    "params={\"fields\": \"age_ratings,aggregated_rating,aggregated_rating_count,category,dlcs,expansions,first_release_date,follows,franchise,franchises,game_modes,hypes,keywords, multiplayer_modes,name,popularity,pulse_count,rating,rating_count,release_dates, similar_games,slug,storyline,summary,tags,themes,time_to_beat,total_rating,total_rating_count,artworks,url,genres\", \"order\":\"popularity:desc\", \"limit\" :\"500\"}"
   ]
  },
  {
   "cell_type": "code",
   "execution_count": 147,
   "metadata": {},
   "outputs": [],
   "source": [
    "# game modes\n",
    "base_url = \"https://api-v3.igdb.com/game_modes\"\n",
    "header={\"user-key\":\"12e42347a0a2ee0b7a738578e40fe301\"}\n",
    "params={\"fields\":\"name,slug, url \", \"limit\" : 500 }"
   ]
  },
  {
   "cell_type": "code",
   "execution_count": 142,
   "metadata": {},
   "outputs": [],
   "source": [
    "#genres\n",
    "base_url = \"https://api-v3.igdb.com/genres\"\n",
    "header={\"user-key\":\"12e42347a0a2ee0b7a738578e40fe301\"}\n",
    "params={\"fields\":\"slug, url \", \"limit\" : 500 }"
   ]
  },
  {
   "cell_type": "code",
   "execution_count": 151,
   "metadata": {},
   "outputs": [],
   "source": [
    "#themes\n",
    "base_url = \"https://api-v3.igdb.com/themes\"\n",
    "header={\"user-key\":\"12e42347a0a2ee0b7a738578e40fe301\"}\n",
    "params={\"fields\":\"slug, url \", \"limit\" : 500 }"
   ]
  },
  {
   "cell_type": "code",
   "execution_count": null,
   "metadata": {},
   "outputs": [],
   "source": [
    "df = df.set_index('id')"
   ]
  },
  {
   "cell_type": "code",
   "execution_count": 152,
   "metadata": {
    "scrolled": false
   },
   "outputs": [
    {
     "data": {
      "text/plain": [
       "Index(['id', 'slug', 'url'], dtype='object')"
      ]
     },
     "execution_count": 152,
     "metadata": {},
     "output_type": "execute_result"
    }
   ],
   "source": [
    "response = requests.get(base_url,headers=header,params=params)\n",
    "df = pd.DataFrame(response.json())\n",
    "df.columns"
   ]
  },
  {
   "cell_type": "code",
   "execution_count": 157,
   "metadata": {},
   "outputs": [],
   "source": [
    "df.to_csv(\"genres_ds.csv\")"
   ]
  },
  {
   "cell_type": "code",
   "execution_count": 4,
   "metadata": {},
   "outputs": [],
   "source": [
    "df = pd.read_csv('primary_ds.csv')\n",
    "age_ratings = df.loc[:,'id']"
   ]
  },
  {
   "cell_type": "code",
   "execution_count": 5,
   "metadata": {},
   "outputs": [
    {
     "data": {
      "text/plain": [
       "0      115278\n",
       "1      120268\n",
       "2      105049\n",
       "3      113344\n",
       "4       19164\n",
       "5        1877\n",
       "6      115653\n",
       "7       36198\n",
       "8       96217\n",
       "9       22422\n",
       "10      26845\n",
       "11      55038\n",
       "12      22387\n",
       "13      22472\n",
       "14      22490\n",
       "15      68049\n",
       "16      26574\n",
       "17      55190\n",
       "18     114286\n",
       "19      79134\n",
       "20      26145\n",
       "21      80916\n",
       "22      16309\n",
       "23      25311\n",
       "24      27092\n",
       "25     106987\n",
       "26      17130\n",
       "27     111130\n",
       "28      38967\n",
       "29     114455\n",
       "        ...  \n",
       "470    120201\n",
       "471     36732\n",
       "472     28472\n",
       "473      3278\n",
       "474      1011\n",
       "475    119305\n",
       "476    116352\n",
       "477     36815\n",
       "478     96239\n",
       "479     22439\n",
       "480      7843\n",
       "481      5503\n",
       "482     11233\n",
       "483     74701\n",
       "484     68271\n",
       "485     16287\n",
       "486      7323\n",
       "487       233\n",
       "488     17479\n",
       "489     64061\n",
       "490     19686\n",
       "491     16999\n",
       "492    115284\n",
       "493    109606\n",
       "494    102868\n",
       "495     22690\n",
       "496       587\n",
       "497    101211\n",
       "498     11550\n",
       "499     26900\n",
       "Name: id, Length: 500, dtype: int64"
      ]
     },
     "execution_count": 5,
     "metadata": {},
     "output_type": "execute_result"
    }
   ],
   "source": [
    "age_ratings"
   ]
  },
  {
   "cell_type": "code",
   "execution_count": null,
   "metadata": {},
   "outputs": [],
   "source": []
  }
 ],
 "metadata": {
  "kernelspec": {
   "display_name": "Python 3",
   "language": "python",
   "name": "python3"
  },
  "language_info": {
   "codemirror_mode": {
    "name": "ipython",
    "version": 3
   },
   "file_extension": ".py",
   "mimetype": "text/x-python",
   "name": "python",
   "nbconvert_exporter": "python",
   "pygments_lexer": "ipython3",
   "version": "3.7.5"
  }
 },
 "nbformat": 4,
 "nbformat_minor": 2
}
