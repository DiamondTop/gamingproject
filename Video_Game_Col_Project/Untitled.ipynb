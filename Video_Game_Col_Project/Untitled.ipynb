{
 "cells": [
  {
   "cell_type": "code",
   "execution_count": 85,
   "metadata": {},
   "outputs": [],
   "source": [
    "import requests\n",
    "from pprint import pprint\n",
    "import pandas as pd\n"
   ]
  },
  {
   "cell_type": "code",
   "execution_count": 8,
   "metadata": {},
   "outputs": [],
   "source": [
    "base_url = \"https://api-v3.igdb.com/\"\n",
    "header={\"user-key\":\"12e42347a0a2ee0b7a738578e40fe301 \"}\n",
    "end_point='games'\n",
    "params={\"fields\":\"aggregated_rating,name,videos,game_modes,genres\", \"filter[aggregated_rating][gt]\":\"0\", \"limit\":\"100\",}\n",
    "# filter[platform][eq]=48"
   ]
  },
  {
   "cell_type": "code",
   "execution_count": 97,
   "metadata": {},
   "outputs": [],
   "source": [
    "base_url = \"https://api-v3.igdb.com/games\"\n",
    "header={\"user-key\":\"12e42347a0a2ee0b7a738578e40fe301\"}\n",
    "params={\"fields\": \"age_ratings,aggregated_rating,aggregated_rating_count,category,dlcs,expansions,first_release_date,follows,franchise,franchises,game_modes,hypes,keywords, multiplayer_modes,name,popularity,pulse_count,rating,rating_count,release_dates, similar_games,slug,storyline,summary,tags,themes,time_to_beat,total_rating,total_rating_count,artworks,url,genres\", \"order\":\"popularity:desc\", \"limit\" :\"500\"}"
   ]
  },
  {
   "cell_type": "code",
   "execution_count": 98,
   "metadata": {
    "scrolled": false
   },
   "outputs": [
    {
     "name": "stdout",
     "output_type": "stream",
     "text": [
      "Date  :  Fri, 22 Nov 2019 20:59:41 GMT\n",
      "Content-Type  :  application/json;charset=utf-8\n",
      "Transfer-Encoding  :  chunked\n",
      "Connection  :  keep-alive\n",
      "Set-Cookie  :  __cfduid=da4f0c21b597a7772080f563ead32caa41574456381; expires=Sun, 22-Dec-19 20:59:41 GMT; path=/; domain=.igdb.com; HttpOnly\n",
      "X-Count  :  123162\n",
      "Via  :  1.1 vegur\n",
      "CF-Cache-Status  :  DYNAMIC\n",
      "Strict-Transport-Security  :  max-age=15552000; preload\n",
      "X-Content-Type-Options  :  nosniff\n",
      "Expect-CT  :  max-age=604800, report-uri=\"https://report-uri.cloudflare.com/cdn-cgi/beacon/expect-ct\"\n",
      "Server  :  cloudflare\n",
      "CF-RAY  :  539dd41e5adf91d4-EWR\n",
      "Content-Encoding  :  gzip\n"
     ]
    }
   ],
   "source": [
    "response = requests.get(base_url,headers=header,params=params)\n",
    "for k,v in response.headers.items():\n",
    "   print(k,' : ',v)\n"
   ]
  },
  {
   "cell_type": "code",
   "execution_count": 99,
   "metadata": {},
   "outputs": [],
   "source": [
    "df = pd.DataFrame(response.json())"
   ]
  },
  {
   "cell_type": "code",
   "execution_count": 100,
   "metadata": {
    "collapsed": true
   },
   "outputs": [
    {
     "data": {
      "text/plain": [
       "Index(['age_ratings', 'aggregated_rating', 'aggregated_rating_count',\n",
       "       'artworks', 'category', 'dlcs', 'expansions', 'first_release_date',\n",
       "       'franchise', 'franchises', 'game_modes', 'genres', 'hypes', 'id',\n",
       "       'keywords', 'multiplayer_modes', 'name', 'popularity', 'pulse_count',\n",
       "       'rating', 'rating_count', 'release_dates', 'similar_games', 'slug',\n",
       "       'storyline', 'summary', 'tags', 'themes', 'time_to_beat',\n",
       "       'total_rating', 'total_rating_count', 'url'],\n",
       "      dtype='object')"
      ]
     },
     "execution_count": 100,
     "metadata": {},
     "output_type": "execute_result"
    }
   ],
   "source": [
    "df.columns"
   ]
  },
  {
   "cell_type": "code",
   "execution_count": 103,
   "metadata": {
    "scrolled": true
   },
   "outputs": [],
   "source": [
    "df = df.fillna(0)"
   ]
  },
  {
   "cell_type": "code",
   "execution_count": 104,
   "metadata": {},
   "outputs": [],
   "source": [
    "df.to_csv(\"primary_ds.csv\")"
   ]
  },
  {
   "cell_type": "code",
   "execution_count": null,
   "metadata": {},
   "outputs": [],
   "source": []
  }
 ],
 "metadata": {
  "kernelspec": {
   "display_name": "Python 3",
   "language": "python",
   "name": "python3"
  },
  "language_info": {
   "codemirror_mode": {
    "name": "ipython",
    "version": 3
   },
   "file_extension": ".py",
   "mimetype": "text/x-python",
   "name": "python",
   "nbconvert_exporter": "python",
   "pygments_lexer": "ipython3",
   "version": "3.7.5"
  }
 },
 "nbformat": 4,
 "nbformat_minor": 2
}
